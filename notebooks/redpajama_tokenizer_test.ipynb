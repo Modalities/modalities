{
 "cells": [
  {
   "cell_type": "code",
   "execution_count": 11,
   "metadata": {},
   "outputs": [],
   "source": [
    "from modalities.__main__ import Main\n",
    "from pydantic import BaseModel\n",
    "from modalities.config.config import PydanticDatasetIFType, PydanticLLMDataLoaderIFType, PydanticTokenizerIFType\n",
    "from pydantic import FilePath\n",
    "from modalities.config.config import load_app_config_dict"
   ]
  },
  {
   "cell_type": "code",
   "execution_count": 12,
   "metadata": {},
   "outputs": [],
   "source": [
    "class ComponentsModel(BaseModel):\n",
    "    tokenizer: PydanticTokenizerIFType\n",
    "    train_dataset: PydanticDatasetIFType\n",
    "    val_dataset: PydanticDatasetIFType\n"
   ]
  },
  {
   "cell_type": "code",
   "execution_count": 29,
   "metadata": {},
   "outputs": [],
   "source": [
    "config_path = FilePath(\"/workspaces/modalities/notebooks/components.yaml\")\n",
    "config_dict = load_app_config_dict(config_path)"
   ]
  },
  {
   "cell_type": "code",
   "execution_count": 31,
   "metadata": {},
   "outputs": [
    {
     "name": "stdout",
     "output_type": "stream",
     "text": [
      "tokenizer: <modalities.tokenization.tokenizer_wrapper.PreTrainedSPTokenizer object at 0x7f5da16c8640>\n",
      "train_dataset: <modalities.dataloader.dataset.PackedMemMapDatasetContinuous object at 0x7f5da2138d90>\n",
      "val_dataset: <modalities.dataloader.dataset.PackedMemMapDatasetContinuous object at 0x7f5da2218580>\n",
      "{'tokenizer': <modalities.tokenization.tokenizer_wrapper.PreTrainedSPTokenizer object at 0x7f5da16c8640>, 'train_dataset': <modalities.dataloader.dataset.PackedMemMapDatasetContinuous object at 0x7f5da2138d90>, 'val_dataset': <modalities.dataloader.dataset.PackedMemMapDatasetContinuous object at 0x7f5da2218580>}\n"
     ]
    }
   ],
   "source": [
    "components = Main(config_dict=config_dict, config_path=config_path).build_components(components_model_type=ComponentsModel)"
   ]
  },
  {
   "cell_type": "code",
   "execution_count": 32,
   "metadata": {},
   "outputs": [],
   "source": [
    "train_dataset = components.train_dataset"
   ]
  },
  {
   "cell_type": "code",
   "execution_count": 33,
   "metadata": {},
   "outputs": [
    {
     "data": {
      "text/plain": [
       "{'input_ids': array([ 1321, 20619,   532, ..., 20348,   547, 22466], dtype=int32)}"
      ]
     },
     "execution_count": 33,
     "metadata": {},
     "output_type": "execute_result"
    }
   ],
   "source": [
    "train_dataset[0]"
   ]
  },
  {
   "cell_type": "code",
   "execution_count": 20,
   "metadata": {},
   "outputs": [],
   "source": [
    "tokenizer = components.tokenizer\n"
   ]
  },
  {
   "cell_type": "code",
   "execution_count": 34,
   "metadata": {},
   "outputs": [
    {
     "data": {
      "text/plain": [
       "'Beitrag Arbeitsrecht\\nStartseite / Arbeitsrecht /\\nZulässigkeit und Vergütung von Mehrarbeit\\nDez,2002\\nDas Landesarbeitsgericht (LAG) Thüringen hat in einem Urteil einige Grundsätze zur Zulässigkeit und Vergütung von Mehrarbeit herausgearbeitet. Es ging um einen Fernfahrer, mit dem im Arbeitsvertrag eine wöchentliche Arbeitszeit von 50 Stunden vereinbart war. Der Fernfahrer machte die Unwirksamkeit dieser Arbeitszeitregelung geltend und klagte die Vergütung für die über 40 Stunden hinausgehende Arbeitszeit ein. Die Klage hatte zumindest teilweise Erfolg. Das LAG Thüringen bestätigt, dass eine Arbeitszeitregelung, welche die zulässige Höchstarbeitszeit überschreitet, nichtig ist. § 3 Arbeitszeitgesetz lässt eine maximale durchschnittliche Wochenarbeitszeit von 48 Stunden zu (6 x 8 Stunden). Anstelle der unwirksamen Arbeitsvertragsregelung trat deshalb die gesetzlich zulässige Höchstarbeitszeit. Das Gericht stellt ferner fest, dass jede über die vereinbarte Arbeitszeit hinausgehende Arbeitsleistung zu vergüten ist, wenn eine Vereinbarung zum Freizeitausgleich von Mehrarbeit fehlt oder der Arbeitnehmer aufgrund der Umstände seiner Beschäftigung nicht zur Inanspruchnahme des Freizeitausgleiches in der Lage ist. Mehrarbeitsstunden, welche die gesetzlich zulässige Arbeitszeit überschreiten, können weder Gegenstand eines vertraglich vereinbarten Pauschalgehaltes noch Gegenstand eines vertraglich vereinbarten Freizeitausgleiches sein. Dem Fernfahrer waren daher (nur) 48 Stunden je Woche zu vergüten. In Punkto Beweislast weist das Gericht darauf hin, dass der Arbeitnehmer im Einzelnen darlegen muss, an welchen Tagen und zu welchen Tageszeiten er über die übliche Arbeitszeit hinaus tätig geworden ist. Tut er dies unter Angabe von Arbeitsbeginn, Fahrtbeginn, Fahrstrecke, Ankunftszeit, muss der Arbeitgeber Tatsachen dafür vortragen, dass die angegebene Mehrarbeitszeit nicht richtig sein kann.\\n(LAG Thüringen Urteil vom 19.03.2002 – 5/6/5 Sa 527/99)<eod> Rolf C. A. Rottländer (Autor/in)<eod> Jennifer Lawrence Sexy Körper\\n43 Beste Jennifer Lawrence Body Ideas\\nAls wir gesehen haben, wie sie im Laufe der Jahre älter wurde, wurde klar, dass sie Deckmodellmaterial war. Sie bringen uns zu einer kleinen Portion heißer und sexy Fotoshootings, von denen sie ein Teil war. Während es klar wurde, dass Jennifer Lawrence sich höchstwahrscheinlich schließlich aus Superhelden -Rollen auswirken würde, können wir sicherlich viel mehr von diesem talentierten wunderschönen Performer erwarten. Und sie sagte, sie sei eine fette Schauspielerin in Hollywood, aber sie wollte kein schlechtes Vorbild für junge Mädchen sein. Lassen Sie uns heute über Jennifer Lawrence sprechen.Lawrences früheste Schauspielerfahrung begann in der Kirche.\\n„Allerdings war klar, dass sie in Rollen besetzt sein würde, die mehr auf ihrer dramatischen Seite gespielt haben, und sie gleichzeitig mehr auf Geheimnisse, Science -Fiction und gelegentliche Spionagerolle hielten. Kurz gesagt, es ist ihre Vielfalt, die sie zu einer einfachen Besetzung mit einem Kollektiv von Performances gemacht hat. Wie die meisten Sterne, die aufwuchsen, fühlte sich Lawrence anfangs in einer Vielzahl kleiner Fernseherfunktionen wohlgefühlt.Im Jahr 2008, nachdem er eine unterstützende Rolle in einem Coming-of-Age-Film namens gespielt hatte \"Party im Park,\" Lawrence landete eine Rolle neben Charlize Theron und Kim Basinger in \"Brennen,\" in dem sie als Teenager Theron spielte. Geboren in den 1990er Jahren gewann sie im Alter von 22 Jahren den Oscar für die beste Schauspielerin in Silver Linings Playbook.Sie war diejenige, die auf die Bühne fiel, um ihre Auszeichnung zu erhalten. Im Alter von 14 Jahren beschloss sie, eine Schauspielkarriere zu verfolgen, und überredete ihre Eltern, sie nach New York zu bringen, wo Chancen reichlich vorhanden waren. Obwohl sie zuvor keine formelle Schauspieltraining oder -erfahrung hatte, überraschte sie die Prüfer bei Auditions immer noch und stieg zu einem guten Preis in eine Agentur ein.Sie absolvierte zwei Jahre früher die High School und begann als Schauspielerin zu arbeiten, um sich dem zu widmen, was sie liebte.\\nWeitere heiße Bilder über Jennifer Lawrence:\\nEs gibt billige Badeanzüge, sexy Kleider, stilvolle Oberteile und Unterteile für Frauen. Oursexy One -Stück Badeanzüge, Bikinis und billige Badeanzüge machen den Erstellen Ihres eigenen Stils für Ihre Sommerferien 2022. Sicher, Jennifer hat ein paar wertvolle Horror -Genre -Rollen wie „House am Ende der Straße“ und den kultischer Film „Mutter“ gespielt!\\nTagged Jennifer Lawrence, wurde klar\\n← Stolze Familiennude\\nNude Bike Week →<eod> Verschiedene Aufkleberarten\\nEckige Aufkleber\\nAm häufigsten werden eckige bzw. rechteckige Aufkleber in Form eines Vierecks, Trapezes, Rechtecks, Quadrats aber auch Dreiecks gewünscht. Sie sind die Klassiker unter den Aufklebern und lassen sich wunderbar für QR Codes, Firmenanschriften und einfache Texte verwenden. Obwohl sie als \"eckige\" Aufkleber bezeichnet werden, bieten wir Ihnen diese Variante auch mit abgerundeten Ecken an.\\nRunde und ovale Aufkleber\\nEine weitere oft gefragte Variante sind Aufkleber mit einer runden oder ovalen Form. Diese eignen sich z.B. dann, wenn Sie ein rundes oder ovales Firmenlogo besitzen oder etwas rundliches, wie etwa ein Verkehrsschild, darstellen möchten.\\nIndividuelle Aufkleber-Formen\\nEs sind auch mit einer individuellen Form versehene Aufkleber möglich, welche sich z.B. für Logos, Figuren, Wappen, Sterne, Pfeile und einzelne Buchstaben eignen. Letztere lassen sich beliebig zu Wörtern Ihrer Wahl kombinieren. Wie auch bei allen anderen Aufkleber-Arten, sind hier fast alle Größen erhältlich.\\nFußboden-Aufkleber\\nAufkleber gibt es aber nicht nur für vertikale Objekte und Oberflächen, sondern auch für den Fußboden. Fußbodenaufkleber eignen sich zum Beispiel als Wegweiser für Ihre Kunden. Da diese oft unterschätzt und dementsprechend selten genutzt werden, springen diese besonders prägnant ins Auge und ziehen ein hohes Maß an Aufmerksamkeit auf sich. Natürlich besitzen diese eine robuste Konstruktion, so dass sie betreten oder befahren werden können, ohne einen Schaden davon zu tragen.\\nFolienplott-Aufkleber\\nSelbstverständlich bieten wir Ihnen auch mit einem Folienplot erzeugte Motive oder Beschriftungen an. Diese Art von Aufklebern, bzw. Folien zeichnen sich insbesondere durch eine lange Haltbarkeit aus und können dank eines computergesteuerten Stichels exakt nach Ihren Wünschen geplottet werden.\\nQualitätsprodukte – Aufkleberdruck mit unseren Maschinen<eod> homeAktuelles\\nStellungnahmen und Anträge\\nAufgaben Kreistag\\nDU BIST HIER: Grüne KT Fraktion LB > Stellungnahmen und Anträge > Redebeiträge >\\nUnsere Abgeordnete\\nDr. Sandra Detzer (MdB) - Ludwigsburg\\nSilke Gericke (MdL) - Ludwigsburg\\nTayfun Tok (MdL) - Bietigheim-Bissingen\\nDr. Markus Rösler (MdL) - Vaihingen\\nGRÜNE JUGEND Ludwigsburg\\nKreisverband Ludwigsburg\\nFraktion Region Stuttgart\\nLandtagsfraktion Baden-Württemberg\\nFörderung der Kurzzeitpflege Haus am Wunnenstein Großbottwar-Winzerhausen\\nVerwaltungsausschuss - Vorberatung am 29. März 2021, Kreistag, 16. April 2021\\nTOP 3 Förderung der Kurzzeitpflege Haus am Wunnenstein Großbottwar-Winzerhausen\\nStellungnahme Susanne Schwarz-Zeeb\\nHerr Landrat, liebe Kolleginnen und Kollegen, meine Damen und Herren,\\nDie Fraktion von Bündnis90/Die Grünen begrüßt die Schaffung und die Bezuschussung dieser neuen Kurzzeitpflegeplätze sehr.\\nIn einer Vorlage des Jahres 2017 beschäftigte sich die Verwaltung ausführlich mit der Anzahl der Kurzzeitpflegeplätze im Landkreis. Ausgehend von vorhandenen 32 Plätzen stellte der damals aufgestellte Kreispflegeplan einen Bedarf für die Jahre 2020-2025 von insgesamt 160 notwendigen Kurzzeitpflegeplätzen fest. Diese gliedern sich in die drei Schwerpunktbereiche für die Kurzeitpflege:\\n1. Rehabilitative Kurzzeitpflege ( z.B. im Anschluss an einen Krankenhausaufenthalt )\\n2. Kurzzeitpflege für Menschen mit Demenz\\n3. Allgemeine Kurzzeitpflege zur Entlastung von Pflegenden Angehörigen\\nDiese drei Schwerpunkte sollten in drei neuen Einrichtungen umgesetzt werden, um insgesamt 90 Kurzzeitplätze zu schaffen. Dafür sollten im Haushalt 2018 und den kommenden Jahren 300 000 Euro bereitgestellt werden.\\nAuch eine Ganztagesstelle zur Vermittlung von festen Kurzzeitpflegeplätzen sollte geschaffen werden.\\nBeiden Vorschlägen stimmten der Sozialausschuss und der Verwaltungsausschuss - gegen unsere Stimmen - mehrheitlich nicht zu.\\nLeider stellten sich die Ausschussmitglieder zum Beispiel vor, in den Kliniken Marbach oder Vaihingen solche Plätze kostengünstiger schaffen zu können, deshalb wurde der Betrag auf 100 000 Euro reduziert. Ebenso wurde die Schaffung der dringend notwendigen Vermittlungsstelle abgelehnt.\\nIm Jahre 2019 stellte die Verwaltung schließlich ein Förderprogramm für die Investive Förderung der solitären Kurzzeitpflege vor, dem der Ausschuss dann folgte, zumal auch das Land den Bau finanziell unterstützt.\\nDeshalb ist unsere Freude umso größer, dass sich ein freier Träger mit Hilfe der Förderung durch den Landkreis diesem Problem jetzt stellt und 13 neue Kurzzeitpflegeplätze schafft.\\nDass diese über andere Haushaltsstellen finanziert werden müssen, ist nicht zuletzt denjenigen geschuldet, die sich 2017 weigerten ausreichend Haushaltsmittel für die Förderung von dringend benötigten Kurzzeitpflegeplätzen bereitzustellen.\\nWir hoffen, dass dies für den kommenden Haushalt, trotz Einsparungen durch Corona , sich dies jetzt ändert, da die 13 Plätze ausschließlich für die Entlastung pflegender Angehöriger vorgesehen sind.\\nIch danke für Ihre Aufmerksamkeit\\nSusanne Schwarz-Zeeb<eod> Gefährdungsbeurteilungen »\\nOberflächenbehandlung »\\nGefährdungsbeurteilung - Kunstoffbeschichtung (manuel'"
      ]
     },
     "execution_count": 34,
     "metadata": {},
     "output_type": "execute_result"
    }
   ],
   "source": [
    "tokenizer.tokenizer.decode(train_dataset[0]['input_ids'].tolist())"
   ]
  },
  {
   "cell_type": "code",
   "execution_count": null,
   "metadata": {},
   "outputs": [],
   "source": []
  },
  {
   "cell_type": "code",
   "execution_count": null,
   "metadata": {},
   "outputs": [],
   "source": []
  },
  {
   "cell_type": "code",
   "execution_count": null,
   "metadata": {},
   "outputs": [],
   "source": []
  },
  {
   "cell_type": "code",
   "execution_count": null,
   "metadata": {},
   "outputs": [],
   "source": []
  }
 ],
 "metadata": {
  "kernelspec": {
   "display_name": "modalities",
   "language": "python",
   "name": "python3"
  },
  "language_info": {
   "codemirror_mode": {
    "name": "ipython",
    "version": 3
   },
   "file_extension": ".py",
   "mimetype": "text/x-python",
   "name": "python",
   "nbconvert_exporter": "python",
   "pygments_lexer": "ipython3",
   "version": "3.10.14"
  },
  "orig_nbformat": 4
 },
 "nbformat": 4,
 "nbformat_minor": 2
}
